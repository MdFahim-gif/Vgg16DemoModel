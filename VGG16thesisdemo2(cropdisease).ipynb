{
 "cells": [
  {
   "cell_type": "markdown",
   "id": "8b1c5839-b2c5-446a-bb8e-72cc15fc17c7",
   "metadata": {},
   "source": [
    "#Heading\n",
    "\n",
    " Importing the necessary libraries for building a convolutional neural network (CNN) using TensorFlow and Keras.The VGG16 pre-trained model for transfer learning"
   ]
  },
  {
   "cell_type": "code",
   "execution_count": 1,
   "id": "1110dae5-3569-44b9-b949-4e439bdef384",
   "metadata": {},
   "outputs": [],
   "source": [
    "import tensorflow\n",
    "from tensorflow import keras\n",
    "from keras import Sequential\n",
    "from keras.layers import Dense,Flatten\n",
    "from keras.applications.vgg16 import VGG16\n",
    "import matplotlib.pyplot as plt\n",
    "from tensorflow.keras.layers import Dropout\n",
    "from tensorflow.keras.optimizers import Adam"
   ]
  },
  {
   "cell_type": "code",
   "execution_count": 2,
   "id": "81a74243-4444-466d-9156-77a72b6b83ed",
   "metadata": {},
   "outputs": [],
   "source": [
    "conv_base = VGG16(\n",
    "    weights='imagenet',\n",
    "    include_top = False,\n",
    "    input_shape=(150,150,3)\n",
    ")"
   ]
  },
  {
   "cell_type": "code",
   "execution_count": 3,
   "id": "539d38d0-948f-4d9b-a092-3c42df287ae0",
   "metadata": {},
   "outputs": [
    {
     "name": "stdout",
     "output_type": "stream",
     "text": [
      "Model: \"vgg16\"\n",
      "_________________________________________________________________\n",
      " Layer (type)                Output Shape              Param #   \n",
      "=================================================================\n",
      " input_1 (InputLayer)        [(None, 150, 150, 3)]     0         \n",
      "                                                                 \n",
      " block1_conv1 (Conv2D)       (None, 150, 150, 64)      1792      \n",
      "                                                                 \n",
      " block1_conv2 (Conv2D)       (None, 150, 150, 64)      36928     \n",
      "                                                                 \n",
      " block1_pool (MaxPooling2D)  (None, 75, 75, 64)        0         \n",
      "                                                                 \n",
      " block2_conv1 (Conv2D)       (None, 75, 75, 128)       73856     \n",
      "                                                                 \n",
      " block2_conv2 (Conv2D)       (None, 75, 75, 128)       147584    \n",
      "                                                                 \n",
      " block2_pool (MaxPooling2D)  (None, 37, 37, 128)       0         \n",
      "                                                                 \n",
      " block3_conv1 (Conv2D)       (None, 37, 37, 256)       295168    \n",
      "                                                                 \n",
      " block3_conv2 (Conv2D)       (None, 37, 37, 256)       590080    \n",
      "                                                                 \n",
      " block3_conv3 (Conv2D)       (None, 37, 37, 256)       590080    \n",
      "                                                                 \n",
      " block3_pool (MaxPooling2D)  (None, 18, 18, 256)       0         \n",
      "                                                                 \n",
      " block4_conv1 (Conv2D)       (None, 18, 18, 512)       1180160   \n",
      "                                                                 \n",
      " block4_conv2 (Conv2D)       (None, 18, 18, 512)       2359808   \n",
      "                                                                 \n",
      " block4_conv3 (Conv2D)       (None, 18, 18, 512)       2359808   \n",
      "                                                                 \n",
      " block4_pool (MaxPooling2D)  (None, 9, 9, 512)         0         \n",
      "                                                                 \n",
      " block5_conv1 (Conv2D)       (None, 9, 9, 512)         2359808   \n",
      "                                                                 \n",
      " block5_conv2 (Conv2D)       (None, 9, 9, 512)         2359808   \n",
      "                                                                 \n",
      " block5_conv3 (Conv2D)       (None, 9, 9, 512)         2359808   \n",
      "                                                                 \n",
      " block5_pool (MaxPooling2D)  (None, 4, 4, 512)         0         \n",
      "                                                                 \n",
      "=================================================================\n",
      "Total params: 14,714,688\n",
      "Trainable params: 14,714,688\n",
      "Non-trainable params: 0\n",
      "_________________________________________________________________\n"
     ]
    }
   ],
   "source": [
    "conv_base.summary()"
   ]
  },
  {
   "cell_type": "code",
   "execution_count": 4,
   "id": "576612e5-1182-4282-a7dc-aff6a3cb211e",
   "metadata": {},
   "outputs": [],
   "source": [
    "model = Sequential()\n",
    "\n",
    "model.add(conv_base)\n",
    "model.add(Flatten())\n",
    "model.add(Dense(512,activation='relu'))\n",
    "model.add(Dropout(0.5))\n",
    "model.add(Dense(15,activation='softmax'))"
   ]
  },
  {
   "cell_type": "code",
   "execution_count": 7,
   "id": "d2ce7517-b274-4fcd-8ca6-8bb1a314026b",
   "metadata": {},
   "outputs": [
    {
     "name": "stdout",
     "output_type": "stream",
     "text": [
      "Model: \"sequential\"\n",
      "_________________________________________________________________\n",
      " Layer (type)                Output Shape              Param #   \n",
      "=================================================================\n",
      " vgg16 (Functional)          (None, 4, 4, 512)         14714688  \n",
      "                                                                 \n",
      " flatten (Flatten)           (None, 8192)              0         \n",
      "                                                                 \n",
      " dense (Dense)               (None, 512)               4194816   \n",
      "                                                                 \n",
      " dropout (Dropout)           (None, 512)               0         \n",
      "                                                                 \n",
      " dense_1 (Dense)             (None, 15)                7695      \n",
      "                                                                 \n",
      "=================================================================\n",
      "Total params: 18,917,199\n",
      "Trainable params: 4,202,511\n",
      "Non-trainable params: 14,714,688\n",
      "_________________________________________________________________\n"
     ]
    }
   ],
   "source": [
    "model.summary()"
   ]
  },
  {
   "cell_type": "code",
   "execution_count": 6,
   "id": "2e5cc265-8784-4ae9-a314-e1406697c57c",
   "metadata": {},
   "outputs": [],
   "source": [
    "conv_base.trainable = False"
   ]
  },
  {
   "cell_type": "code",
   "execution_count": 8,
   "id": "e41439aa-026d-481c-9b0e-e659e4c1c4fe",
   "metadata": {},
   "outputs": [
    {
     "name": "stdout",
     "output_type": "stream",
     "text": [
      "Found 21731 files belonging to 15 classes.\n",
      "Found 6203 files belonging to 15 classes.\n",
      "Found 3119 files belonging to 15 classes.\n"
     ]
    }
   ],
   "source": [
    "# generators\n",
    "train_ds = keras.utils.image_dataset_from_directory(\n",
    "    directory = r\"C:\\Users\\HP\\OneDrive\\Desktop\\bangladeshi-crops-disease-dataset\\CropDisease\\Split_Crop_Disease\\train\",\n",
    "    labels='inferred',\n",
    "    label_mode = 'int',\n",
    "    batch_size=32,\n",
    "    image_size=(150,150)\n",
    ")\n",
    "\n",
    "validation_ds = keras.utils.image_dataset_from_directory(\n",
    "    directory = r\"C:\\Users\\HP\\OneDrive\\Desktop\\bangladeshi-crops-disease-dataset\\CropDisease\\Split_Crop_Disease\\val\",\n",
    "    labels='inferred',\n",
    "    label_mode = 'int',\n",
    "    batch_size=32,\n",
    "    image_size=(150,150)\n",
    ")\n",
    "\n",
    "test_ds = keras.utils.image_dataset_from_directory(\n",
    "    directory = r\"C:\\Users\\HP\\OneDrive\\Desktop\\bangladeshi-crops-disease-dataset\\CropDisease\\Split_Crop_Disease\\test\",\n",
    "    labels='inferred',\n",
    "    label_mode='int',\n",
    "    batch_size=32,\n",
    "    image_size=(150,150)\n",
    ")"
   ]
  },
  {
   "cell_type": "code",
   "execution_count": 9,
   "id": "273a46fb-247d-4203-b7db-318dc427b455",
   "metadata": {},
   "outputs": [],
   "source": [
    "# Normalize\n",
    "def process(image,label):\n",
    "    image = tensorflow.cast(image/255. ,tensorflow.float32)\n",
    "    return image,label\n",
    "\n",
    "train_ds = train_ds.map(process)\n",
    "validation_ds = validation_ds.map(process)\n",
    "test_ds = test_ds.map(process)"
   ]
  },
  {
   "cell_type": "code",
   "execution_count": 10,
   "id": "e196dd6a-da6f-4a6d-ad88-1675fb0ae56b",
   "metadata": {},
   "outputs": [],
   "source": [
    "model.compile(optimizer=Adam(learning_rate=0.001),loss='sparse_categorical_crossentropy',metrics=['accuracy'])"
   ]
  },
  {
   "cell_type": "code",
   "execution_count": 11,
   "id": "ede5f038-0ca3-4c10-a252-7c653952a964",
   "metadata": {},
   "outputs": [
    {
     "name": "stdout",
     "output_type": "stream",
     "text": [
      "Epoch 1/20\n",
      "680/680 [==============================] - 2719s 4s/step - loss: 0.5262 - accuracy: 0.8145 - val_loss: 0.2809 - val_accuracy: 0.8857\n",
      "Epoch 2/20\n",
      "680/680 [==============================] - 2506s 4s/step - loss: 0.3149 - accuracy: 0.8803 - val_loss: 0.2550 - val_accuracy: 0.8989\n",
      "Epoch 3/20\n",
      "680/680 [==============================] - 2583s 4s/step - loss: 0.2751 - accuracy: 0.8931 - val_loss: 0.2484 - val_accuracy: 0.8989\n",
      "Epoch 4/20\n",
      "680/680 [==============================] - 2358s 3s/step - loss: 0.2449 - accuracy: 0.9038 - val_loss: 0.2085 - val_accuracy: 0.9144\n",
      "Epoch 5/20\n",
      "680/680 [==============================] - 2051s 3s/step - loss: 0.2282 - accuracy: 0.9115 - val_loss: 0.2043 - val_accuracy: 0.9158\n",
      "Epoch 6/20\n",
      "680/680 [==============================] - 2023s 3s/step - loss: 0.2059 - accuracy: 0.9184 - val_loss: 0.2098 - val_accuracy: 0.9142\n",
      "Epoch 7/20\n",
      "680/680 [==============================] - 2480s 4s/step - loss: 0.1960 - accuracy: 0.9211 - val_loss: 0.1897 - val_accuracy: 0.9278\n",
      "Epoch 8/20\n",
      "680/680 [==============================] - 2785s 4s/step - loss: 0.1899 - accuracy: 0.9231 - val_loss: 0.1874 - val_accuracy: 0.9289\n",
      "Epoch 9/20\n",
      "680/680 [==============================] - 2720s 4s/step - loss: 0.1813 - accuracy: 0.9287 - val_loss: 0.1873 - val_accuracy: 0.9292\n",
      "Epoch 10/20\n",
      "680/680 [==============================] - 2341s 3s/step - loss: 0.1827 - accuracy: 0.9289 - val_loss: 0.1974 - val_accuracy: 0.9286\n",
      "Epoch 11/20\n",
      "680/680 [==============================] - 2323s 3s/step - loss: 0.1715 - accuracy: 0.9300 - val_loss: 0.1764 - val_accuracy: 0.9321\n",
      "Epoch 12/20\n",
      "680/680 [==============================] - 2390s 4s/step - loss: 0.1527 - accuracy: 0.9376 - val_loss: 0.1791 - val_accuracy: 0.9294\n",
      "Epoch 13/20\n",
      "680/680 [==============================] - 2438s 4s/step - loss: 0.1517 - accuracy: 0.9396 - val_loss: 0.1879 - val_accuracy: 0.9315\n",
      "Epoch 14/20\n",
      "680/680 [==============================] - 2480s 4s/step - loss: 0.1614 - accuracy: 0.9358 - val_loss: 0.1864 - val_accuracy: 0.9304\n",
      "Epoch 15/20\n",
      "680/680 [==============================] - 2134s 3s/step - loss: 0.1504 - accuracy: 0.9406 - val_loss: 0.1835 - val_accuracy: 0.9347\n",
      "Epoch 16/20\n",
      "680/680 [==============================] - 2061s 3s/step - loss: 0.1393 - accuracy: 0.9448 - val_loss: 0.1890 - val_accuracy: 0.9320\n",
      "Epoch 17/20\n",
      "680/680 [==============================] - 2004s 3s/step - loss: 0.1403 - accuracy: 0.9438 - val_loss: 0.2021 - val_accuracy: 0.9308\n",
      "Epoch 18/20\n",
      "680/680 [==============================] - 2012s 3s/step - loss: 0.1464 - accuracy: 0.9412 - val_loss: 0.2029 - val_accuracy: 0.9320\n",
      "Epoch 19/20\n",
      "680/680 [==============================] - 2002s 3s/step - loss: 0.1374 - accuracy: 0.9449 - val_loss: 0.2037 - val_accuracy: 0.9352\n",
      "Epoch 20/20\n",
      "680/680 [==============================] - 2006s 3s/step - loss: 0.1389 - accuracy: 0.9436 - val_loss: 0.2058 - val_accuracy: 0.9283\n"
     ]
    }
   ],
   "source": [
    "history = model.fit(train_ds,epochs=20,validation_data=validation_ds)"
   ]
  },
  {
   "cell_type": "code",
   "execution_count": 1,
   "id": "5040ddd6-e732-4094-97f6-032bc374b6b2",
   "metadata": {},
   "outputs": [
    {
     "ename": "NameError",
     "evalue": "name 'model' is not defined",
     "output_type": "error",
     "traceback": [
      "\u001b[1;31m---------------------------------------------------------------------------\u001b[0m",
      "\u001b[1;31mNameError\u001b[0m                                 Traceback (most recent call last)",
      "Cell \u001b[1;32mIn[1], line 1\u001b[0m\n\u001b[1;32m----> 1\u001b[0m \u001b[43mmodel\u001b[49m\u001b[38;5;241m.\u001b[39msave(\u001b[38;5;124m'\u001b[39m\u001b[38;5;124mVGG16thesisdemo2cropdisease\u001b[39m\u001b[38;5;124m'\u001b[39m)\n",
      "\u001b[1;31mNameError\u001b[0m: name 'model' is not defined"
     ]
    }
   ],
   "source": [
    "model.save('VGG16thesisdemo2cropdisease')"
   ]
  },
  {
   "cell_type": "code",
   "execution_count": null,
   "id": "73927020-5365-4319-a588-5b6f003cc4cb",
   "metadata": {},
   "outputs": [],
   "source": []
  }
 ],
 "metadata": {
  "kernelspec": {
   "display_name": "Python 3 (ipykernel)",
   "language": "python",
   "name": "python3"
  },
  "language_info": {
   "codemirror_mode": {
    "name": "ipython",
    "version": 3
   },
   "file_extension": ".py",
   "mimetype": "text/x-python",
   "name": "python",
   "nbconvert_exporter": "python",
   "pygments_lexer": "ipython3",
   "version": "3.10.13"
  }
 },
 "nbformat": 4,
 "nbformat_minor": 5
}
